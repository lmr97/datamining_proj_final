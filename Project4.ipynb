{
 "cells": [
  {
   "cell_type": "code",
   "execution_count": 1,
   "id": "6d40cd77",
   "metadata": {},
   "outputs": [],
   "source": [
    "import pandas as pd\n",
    "import numpy as np\n",
    "from scipy import stats\n",
    "from scipy.stats.contingency import crosstab"
   ]
  },
  {
   "cell_type": "code",
   "execution_count": 2,
   "id": "0a142d25",
   "metadata": {},
   "outputs": [],
   "source": [
    "df = pd.read_csv(\"survey_results_public.csv\")"
   ]
  },
  {
   "cell_type": "code",
   "execution_count": 31,
   "id": "683d1fdd",
   "metadata": {},
   "outputs": [
    {
     "name": "stdout",
     "output_type": "stream",
     "text": [
      "               Respondent   Age  Age1stCode  CompTotal  ConvertedComp  \\\n",
      "Respondent           1.00 -0.03        0.03       0.00          -0.01   \n",
      "Age                 -0.03  1.00        0.08       0.04           0.11   \n",
      "Age1stCode           0.03  0.08        1.00       0.00          -0.04   \n",
      "CompTotal            0.00  0.04        0.00        NaN           0.00   \n",
      "ConvertedComp       -0.01  0.11       -0.04       0.00           1.00   \n",
      "WorkWeekHrs         -0.00  0.05       -0.00      -0.00           0.03   \n",
      "YearsCode           -0.05  0.79       -0.27       0.00           0.11   \n",
      "YearsCodePro        -0.04  0.83       -0.16       0.00           0.11   \n",
      "\n",
      "               WorkWeekHrs  YearsCode  YearsCodePro  \n",
      "Respondent           -0.00      -0.05         -0.04  \n",
      "Age                   0.05       0.79          0.83  \n",
      "Age1stCode           -0.00      -0.27         -0.16  \n",
      "CompTotal            -0.00       0.00          0.00  \n",
      "ConvertedComp         0.03       0.11          0.11  \n",
      "WorkWeekHrs           1.00       0.05          0.05  \n",
      "YearsCode             0.05       1.00          0.88  \n",
      "YearsCodePro          0.05       0.88          1.00  \n"
     ]
    }
   ],
   "source": [
    "cat_vars = df.drop(['Respondent', \n",
    "                    'Age', \n",
    "                    'Age1stCode',\n",
    "                    'CompTotal', \n",
    "                    'ConvertedComp',\n",
    "                    'WorkWeekHrs',\n",
    "                    'YearsCode',\n",
    "                    'YearsCodePro'], \n",
    "                    axis=1)\n",
    "\n",
    "# conversion to make these a quanititative var\n",
    "df['YearsCode'].replace('Less than 1 year',0.5, inplace=True) \n",
    "df['YearsCode'].replace('More than 50 years',55, inplace=True)  # it's unlikely they coded for more than 60 years\n",
    "df['YearsCodePro'].replace('Less than 1 year',0.5, inplace=True) \n",
    "df['YearsCodePro'].replace('More than 50 years',55, inplace=True)\n",
    "\n",
    "# true values unlikely to be far from these replacements\n",
    "df['Age1stCode'].replace('Younger than 5 years', 3, inplace=True)  \n",
    "df['Age1stCode'].replace('Older than 85', 87, inplace=True)  \n",
    "\n",
    "quant_vars = df.filter(['Respondent',\n",
    "                        'Age',\n",
    "                        'Age1stCode',\n",
    "                        'CompTotal',\n",
    "                        'ConvertedComp',\n",
    "                        'WorkWeekHrs',\n",
    "                        'YearsCode',\n",
    "                        'YearsCodePro'],\n",
    "                        axis=1)\n",
    "\n",
    "# for some reason, this data is all 'object', not strings, so this converts it\n",
    "cat_vars = pd.DataFrame(cat_vars, dtype=str)  \n",
    "quant_vars = pd.DataFrame(quant_vars, dtype=float)\n",
    "print(round(quant_vars.corr(numeric_only=True),2))  # find correlation matrix"
   ]
  },
  {
   "cell_type": "code",
   "execution_count": 23,
   "id": "99831b79",
   "metadata": {},
   "outputs": [
    {
     "name": "stdout",
     "output_type": "stream",
     "text": [
      "Hobbyist                            3\n",
      "Trans                               3\n",
      "NEWOtherComms                       3\n",
      "NEWDevOps                           4\n",
      "CompFreq                            4\n",
      "SurveyLength                        4\n",
      "SurveyEase                          4\n",
      "NEWOffTopic                         4\n",
      "NEWOnboardGood                      4\n",
      "SOAccount                           4\n",
      "PurchaseWhat                        4\n",
      "JobSeek                             4\n",
      "NEWLearn                            5\n",
      "OpSys                               5\n",
      "NEWPurpleLink                       5\n",
      "JobSat                              6\n",
      "NEWDevOpsImpt                       6\n",
      "NEWEdImpt                           6\n",
      "NEWOvertime                         6\n",
      "MainBranch                          6\n",
      "SOComm                              7\n",
      "SOPartFreq                          7\n",
      "SOVisitFreq                         7\n",
      "WelcomeChange                       7\n",
      "Gender                              8\n",
      "Employment                          8\n",
      "EdLevel                            10\n",
      "OrgSize                            10\n",
      "UndergradMajor                     13\n",
      "Sexuality                          15\n",
      "NEWSOSites                         62\n",
      "NEWJobHuntResearch                 64\n",
      "NEWPurchaseResearch                64\n",
      "CurrencySymbol                    142\n",
      "CurrencyDesc                      143\n",
      "Country                           184\n",
      "Ethnicity                         209\n",
      "JobFactors                        231\n",
      "NEWStuck                          445\n",
      "NEWCollabToolsWorkedWith         1154\n",
      "NEWCollabToolsDesireNextYear     1278\n",
      "NEWJobHunt                       2173\n",
      "MiscTechWorkedWith               2731\n",
      "DatabaseWorkedWith               2809\n",
      "DatabaseDesireNextYear           3194\n",
      "WebframeWorkedWith               3790\n",
      "WebframeDesireNextYear           3987\n",
      "MiscTechDesireNextYear           5217\n",
      "PlatformWorkedWith               6288\n",
      "PlatformDesireNextYear           7472\n",
      "DevType                          8270\n",
      "LanguageWorkedWith              14257\n",
      "LanguageDesireNextYear          16244\n",
      "dtype: int64\n"
     ]
    }
   ],
   "source": [
    "# count number of levels on each categorical column, drop ones with high number of levels\n",
    "# sorted for convenience\n",
    "col_unique_counts = cat_vars.nunique(dropna=True).sort_values(axis=0, ascending=True)\n",
    "print(col_unique_counts)"
   ]
  },
  {
   "cell_type": "code",
   "execution_count": 36,
   "id": "913f08ab",
   "metadata": {},
   "outputs": [
    {
     "data": {
      "text/plain": [
       "Index(['Hobbyist', 'Trans', 'NEWOtherComms', 'NEWDevOps', 'CompFreq',\n",
       "       'SurveyLength', 'SurveyEase', 'NEWOffTopic', 'NEWOnboardGood',\n",
       "       'SOAccount', 'PurchaseWhat', 'JobSeek', 'NEWLearn', 'OpSys',\n",
       "       'NEWPurpleLink', 'JobSat', 'NEWDevOpsImpt', 'NEWEdImpt', 'NEWOvertime',\n",
       "       'MainBranch', 'SOComm', 'SOPartFreq', 'SOVisitFreq', 'WelcomeChange',\n",
       "       'Gender', 'Employment', 'EdLevel', 'OrgSize', 'UndergradMajor',\n",
       "       'Sexuality'],\n",
       "      dtype='object')"
      ]
     },
     "execution_count": 36,
     "metadata": {},
     "output_type": "execute_result"
    }
   ],
   "source": [
    "# looks like we can drop about everything after Sexuality (and even keeping that is a bit much)\n",
    "small_cats = col_unique_counts.loc[:'Sexuality'] # categorical variables with smaller number of levels\n",
    "cat_vars = cat_vars[small_cats.index]\n",
    "cat_vars.columns"
   ]
  },
  {
   "cell_type": "code",
   "execution_count": 14,
   "metadata": {},
   "outputs": [
    {
     "name": "stdout",
     "output_type": "stream",
     "text": [
      "[[ 3535  3949 10271  7748  1730  4963  6762  2320  3290  1445]\n",
      " [  565   534  8627  1121   337   737   925   328   521   209]\n",
      " [  253   330  1004   627    97   389   548   201   261   134]\n",
      " [   16     9    34    13     1    19    15     3     9     2]\n",
      " [   28    32   116    61    14    30    39    22    28    15]\n",
      " [    3     5    30    15     6     7    12     4     7     3]\n",
      " [    0     1     9     3     1     1     6     1     4     0]\n",
      " [    9     3    36     9     4     3     4     1     7     0]]\n",
      "(8006.103227001142, 0.0, 63, array([[3.14719469e+03, 3.47126509e+03, 1.43668831e+04, 6.85044850e+03,\n",
      "        1.56324708e+03, 4.38922662e+03, 5.93248698e+03, 2.05577698e+03,\n",
      "        2.94589986e+03, 1.29057111e+03],\n",
      "       [9.51005042e+02, 1.04893117e+03, 4.34131968e+03, 2.07003751e+03,\n",
      "        4.72374924e+02, 1.32631663e+03, 1.79265205e+03, 6.21205380e+02,\n",
      "        8.90178682e+02, 3.89978933e+02],\n",
      "       [2.62921705e+02, 2.89995067e+02, 1.20023251e+03, 5.72297482e+02,\n",
      "        1.30596174e+02, 3.66683049e+02, 4.95609500e+02, 1.71742914e+02,\n",
      "        2.46105211e+02, 1.07816385e+02],\n",
      "       [8.27615147e+00, 9.12835668e+00, 3.77804719e+01, 1.80145669e+01,\n",
      "        4.11085773e+00, 1.15423124e+01, 1.56006112e+01, 5.40605948e+00,\n",
      "        7.74680815e+00, 3.39380401e+00],\n",
      "       [2.63332092e+01, 2.90447713e+01, 1.20210592e+02, 5.73190767e+01,\n",
      "        1.30800019e+01, 3.67255395e+01, 4.96383084e+01, 1.72010983e+01,\n",
      "        2.46489350e+01, 1.07984673e+01],\n",
      "       [6.29261104e+00, 6.94056872e+00, 2.87256481e+01, 1.36970261e+01,\n",
      "        3.12561083e+00, 8.77597307e+00, 1.18616218e+01, 4.11039233e+00,\n",
      "        5.89013512e+00, 2.58041296e+00],\n",
      "       [1.77834660e+00, 1.96146507e+00, 8.11811793e+00, 3.87089868e+00,\n",
      "        8.83324801e-01, 2.48016630e+00, 3.35219745e+00, 1.16163262e+00,\n",
      "        1.66460340e+00, 7.29247142e-01],\n",
      "       [5.19824390e+00, 5.73351329e+00, 2.37298832e+01, 1.13149346e+01,\n",
      "        2.58202634e+00, 7.24971688e+00, 9.79873102e+00, 3.39554149e+00,\n",
      "        4.86576380e+00, 2.13164549e+00]]))\n"
     ]
    }
   ],
   "source": [
    "ctab_result = crosstab(cat_vars['Gender'], \n",
    "                       cat_vars['OrgSize'],\n",
    "                       levels=(\n",
    "                           cat_vars['Gender'].unique(),\n",
    "                           cat_vars['OrgSize'].unique()))\n",
    "\n",
    "# these two are the label sets\n",
    "# print(ctab_result)\n",
    "# print(ctab_result[0][0])  # rows\n",
    "# print(ctab_result[0][1])  # columns\n",
    "\n",
    "# # this is the actual contingency table\n",
    "print(ctab_result[1])\n",
    "contingency_table = ctab_result[1]\n",
    "\n",
    "# this is the chi-squared test\n",
    "test_results = stats.chi2_contingency(contingency_table)\n",
    "print(test_results) # second value is the p-value"
   ]
  },
  {
   "cell_type": "code",
   "execution_count": 37,
   "id": "ca39441e",
   "metadata": {},
   "outputs": [
    {
     "name": "stdout",
     "output_type": "stream",
     "text": [
      " row: 29 col: 29 Progress: 99.89%\r"
     ]
    }
   ],
   "source": [
    "# this codeblock takes about 1 MINUTE little bit to run\n",
    "chi_sq_tests = np.zeros((len(cat_vars.columns),len(cat_vars.columns)))\n",
    "\n",
    "for i, rows in enumerate(cat_vars.columns):\n",
    "    for j, cols in enumerate(cat_vars.columns):\n",
    "        \n",
    "        ctab_result = crosstab(cat_vars[rows], cat_vars[cols],\n",
    "                               levels=(\n",
    "                                   cat_vars[rows].unique(),\n",
    "                                   cat_vars[cols].unique()))\n",
    "\n",
    "        test_results = stats.chi2_contingency(ctab_result[1])\n",
    "        chi_sq_tests[i][j] = test_results[1]  # load p-values into the grid\n",
    "        amount_completed = 100*((len(cat_vars.columns)*i + j)/len(cat_vars.columns)**2)\n",
    "        print(\" row:\", i, \n",
    "              \"col:\", j, \n",
    "              \"Progress: {:.2f}%\".format(amount_completed),\n",
    "              end=\"\\r\")  # progress"
   ]
  },
  {
   "cell_type": "code",
   "execution_count": 39,
   "id": "b9116941",
   "metadata": {},
   "outputs": [],
   "source": [
    "# redefine as a DataFrame, to have labels\n",
    "chi_sq_tests = pd.DataFrame(chi_sq_tests, \n",
    "                            columns=cat_vars.columns, \n",
    "                            index=cat_vars.columns)\n",
    "round(chi_sq_tests,2).to_csv('chi_sq_tests.csv')    # to save for later"
   ]
  },
  {
   "cell_type": "code",
   "execution_count": 46,
   "id": "ecaa68e4",
   "metadata": {},
   "outputs": [
    {
     "name": "stdout",
     "output_type": "stream",
     "text": [
      "Hobbyist          0\n",
      "Trans             0\n",
      "NEWOtherComms     0\n",
      "NEWDevOps         0\n",
      "CompFreq          0\n",
      "SurveyLength      0\n",
      "SurveyEase        0\n",
      "NEWOffTopic       0\n",
      "NEWOnboardGood    0\n",
      "SOAccount         0\n",
      "PurchaseWhat      0\n",
      "JobSeek           0\n",
      "NEWLearn          0\n",
      "OpSys             0\n",
      "NEWPurpleLink     0\n",
      "JobSat            0\n",
      "NEWDevOpsImpt     0\n",
      "NEWEdImpt         0\n",
      "NEWOvertime       0\n",
      "MainBranch        0\n",
      "SOComm            0\n",
      "SOPartFreq        0\n",
      "SOVisitFreq       0\n",
      "WelcomeChange     0\n",
      "Gender            0\n",
      "Employment        0\n",
      "EdLevel           0\n",
      "OrgSize           0\n",
      "UndergradMajor    0\n",
      "Sexuality         0\n",
      "dtype: int64\n"
     ]
    }
   ],
   "source": [
    "indep_vars = chi_sq_tests.gt(0.05)           # show which cells in are greater than p=0.05\n",
    "print(indep_vars[indep_vars==True].count())  # looks like it was none of them!"
   ]
  },
  {
   "cell_type": "markdown",
   "id": "1df8e9e4",
   "metadata": {},
   "source": [
    "This means no two variables are independent of each other. So we could use exactly 1 categorical variable, but not another one, since we'd run into multicolinearity issues with two or more."
   ]
  }
 ],
 "metadata": {
  "kernelspec": {
   "display_name": "Python 3 (ipykernel)",
   "language": "python",
   "name": "python3"
  },
  "language_info": {
   "codemirror_mode": {
    "name": "ipython",
    "version": 3
   },
   "file_extension": ".py",
   "mimetype": "text/x-python",
   "name": "python",
   "nbconvert_exporter": "python",
   "pygments_lexer": "ipython3",
   "version": "3.8.9"
  }
 },
 "nbformat": 4,
 "nbformat_minor": 5
}
