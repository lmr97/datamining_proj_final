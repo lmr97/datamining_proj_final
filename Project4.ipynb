{
 "cells": [
  {
   "cell_type": "code",
   "execution_count": 9,
   "id": "6d40cd77",
   "metadata": {},
   "outputs": [],
   "source": [
    "import pandas as pd\n",
    "import numpy as np\n",
    "from scipy import stats\n",
    "from scipy.stats.contingency import crosstab"
   ]
  },
  {
   "cell_type": "code",
   "execution_count": 21,
   "id": "0a142d25",
   "metadata": {},
   "outputs": [],
   "source": [
    "df = pd.read_csv(\"survey_results_public.csv\")"
   ]
  },
  {
   "cell_type": "code",
   "execution_count": 22,
   "id": "683d1fdd",
   "metadata": {},
   "outputs": [
    {
     "name": "stdout",
     "output_type": "stream",
     "text": [
      "45\n",
      "               Respondent    Age  Age1stCode  CompTotal  ConvertedComp  \\\n",
      "Respondent           True  False       False      False          False   \n",
      "Age                 False   True       False      False          False   \n",
      "Age1stCode          False  False        True      False          False   \n",
      "CompTotal           False  False       False      False          False   \n",
      "ConvertedComp       False  False       False      False           True   \n",
      "WorkWeekHrs         False  False       False      False          False   \n",
      "YearsCode           False   True       False      False          False   \n",
      "YearsCodePro        False   True       False      False          False   \n",
      "\n",
      "               WorkWeekHrs  YearsCode  YearsCodePro  \n",
      "Respondent           False      False         False  \n",
      "Age                  False       True          True  \n",
      "Age1stCode           False      False         False  \n",
      "CompTotal            False      False         False  \n",
      "ConvertedComp        False      False         False  \n",
      "WorkWeekHrs           True      False         False  \n",
      "YearsCode            False       True          True  \n",
      "YearsCodePro         False       True          True  \n"
     ]
    }
   ],
   "source": [
    "print(df['Hobbyist'].isna().sum())            # relatively few nulls (45)\n",
    "df = df.dropna(how='any', subset='Hobbyist')  # drop all rows in the response var col without values\n",
    "\n",
    "# categorical columns\n",
    "cat_vars = df.drop(['Respondent', \n",
    "                    'Age', \n",
    "                    'Age1stCode',\n",
    "                    'CompTotal', \n",
    "                    'ConvertedComp',\n",
    "                    'WorkWeekHrs',\n",
    "                    'YearsCode',\n",
    "                    'YearsCodePro'], \n",
    "                    axis=1)\n",
    "\n",
    "# conversion to make these a quanititative var\n",
    "df['YearsCode'].replace('Less than 1 year', 0.5, inplace=True) \n",
    "df['YearsCode'].replace('More than 50 years', 55, inplace=True)  # it's unlikely they coded for more than 60 years\n",
    "df['YearsCodePro'].replace('Less than 1 year', 0.5, inplace=True) \n",
    "df['YearsCodePro'].replace('More than 50 years', 55, inplace=True)\n",
    "\n",
    "# true values unlikely to be far from these replacements\n",
    "df['Age1stCode'].replace('Younger than 5 years', 3, inplace=True)  \n",
    "df['Age1stCode'].replace('Older than 85', 87, inplace=True)  \n",
    "\n",
    "# quantitative columns\n",
    "quant_vars = df.filter(['Respondent',\n",
    "                        'Age',\n",
    "                        'Age1stCode',\n",
    "                        'CompTotal',\n",
    "                        'ConvertedComp',\n",
    "                        'WorkWeekHrs',\n",
    "                        'YearsCode',\n",
    "                        'YearsCodePro'],\n",
    "                        axis=1)\n",
    "\n",
    "# for some reason, the data is all of type 'object', not strings or floats, so these convert it\n",
    "cat_vars = pd.DataFrame(cat_vars, dtype=str)  \n",
    "quant_vars = pd.DataFrame(quant_vars, dtype=float)"
   ]
  },
  {
   "cell_type": "markdown",
   "id": "aea178d8",
   "metadata": {},
   "source": [
    "To slim down the features further, we can exclude categorical features with very high numbers of levels. So let's see the number of unique values for each categorical feature:"
   ]
  },
  {
   "cell_type": "code",
   "execution_count": 12,
   "id": "99831b79",
   "metadata": {},
   "outputs": [
    {
     "name": "stdout",
     "output_type": "stream",
     "text": [
      "Hobbyist                            2\n",
      "Trans                               3\n",
      "NEWOtherComms                       3\n",
      "NEWDevOps                           4\n",
      "CompFreq                            4\n",
      "SurveyLength                        4\n",
      "SurveyEase                          4\n",
      "NEWOffTopic                         4\n",
      "NEWOnboardGood                      4\n",
      "SOAccount                           4\n",
      "PurchaseWhat                        4\n",
      "JobSeek                             4\n",
      "NEWLearn                            5\n",
      "OpSys                               5\n",
      "NEWPurpleLink                       5\n",
      "JobSat                              6\n",
      "NEWDevOpsImpt                       6\n",
      "NEWEdImpt                           6\n",
      "NEWOvertime                         6\n",
      "MainBranch                          6\n",
      "SOComm                              7\n",
      "SOPartFreq                          7\n",
      "SOVisitFreq                         7\n",
      "WelcomeChange                       7\n",
      "Gender                              8\n",
      "Employment                          8\n",
      "EdLevel                            10\n",
      "OrgSize                            10\n",
      "UndergradMajor                     13\n",
      "Sexuality                          15\n",
      "NEWSOSites                         62\n",
      "NEWJobHuntResearch                 64\n",
      "NEWPurchaseResearch                64\n",
      "CurrencySymbol                    142\n",
      "CurrencyDesc                      143\n",
      "Country                           184\n",
      "Ethnicity                         209\n",
      "JobFactors                        231\n",
      "NEWStuck                          445\n",
      "NEWCollabToolsWorkedWith         1154\n",
      "NEWCollabToolsDesireNextYear     1278\n",
      "NEWJobHunt                       2173\n",
      "MiscTechWorkedWith               2731\n",
      "DatabaseWorkedWith               2809\n",
      "DatabaseDesireNextYear           3194\n",
      "WebframeWorkedWith               3790\n",
      "WebframeDesireNextYear           3987\n",
      "MiscTechDesireNextYear           5217\n",
      "PlatformWorkedWith               6288\n",
      "PlatformDesireNextYear           7472\n",
      "DevType                          8270\n",
      "LanguageWorkedWith              14257\n",
      "LanguageDesireNextYear          16244\n",
      "dtype: int64\n"
     ]
    }
   ],
   "source": [
    "# count number of levels on each categorical column, drop ones with high number of levels\n",
    "# sorted for convenience\n",
    "col_unique_counts = cat_vars.nunique(dropna=True).sort_values(axis=0, ascending=True)\n",
    "print(col_unique_counts)"
   ]
  },
  {
   "cell_type": "markdown",
   "id": "4f37765f",
   "metadata": {},
   "source": [
    "Some of these variables have hundreds or eve thousands of levels! Looks like we can drop about everything after `Sexuality` (and even keeping that may be a bit much)."
   ]
  },
  {
   "cell_type": "code",
   "execution_count": 13,
   "id": "913f08ab",
   "metadata": {},
   "outputs": [
    {
     "data": {
      "text/plain": [
       "Index(['Hobbyist', 'Trans', 'NEWOtherComms', 'NEWDevOps', 'CompFreq',\n",
       "       'SurveyLength', 'SurveyEase', 'NEWOffTopic', 'NEWOnboardGood',\n",
       "       'SOAccount', 'PurchaseWhat', 'JobSeek', 'NEWLearn', 'OpSys',\n",
       "       'NEWPurpleLink', 'JobSat', 'NEWDevOpsImpt', 'NEWEdImpt', 'NEWOvertime',\n",
       "       'MainBranch', 'SOComm', 'SOPartFreq', 'SOVisitFreq', 'WelcomeChange',\n",
       "       'Gender', 'Employment', 'EdLevel', 'OrgSize', 'UndergradMajor',\n",
       "       'Sexuality'],\n",
       "      dtype='object')"
      ]
     },
     "execution_count": 13,
     "metadata": {},
     "output_type": "execute_result"
    }
   ],
   "source": [
    "small_cats = col_unique_counts.loc[:'Sexuality'] # categorical variables with smaller number of levels\n",
    "cat_vars = cat_vars[small_cats.index]\n",
    "cat_vars.columns"
   ]
  },
  {
   "cell_type": "markdown",
   "id": "0077246b",
   "metadata": {},
   "source": [
    "Now we can compare each categorical variable against each other (using $\\chi ^2$ tests of independence) to see if which categorical variables are independent of which (if any). We can only select variables that are indeendent of each other, or else we get multicollinearity in the model. So this is another way to eliminate features."
   ]
  },
  {
   "cell_type": "code",
   "execution_count": 15,
   "id": "ca39441e",
   "metadata": {},
   "outputs": [
    {
     "name": "stdout",
     "output_type": "stream",
     "text": [
      " row: 29 col: 29 Progress: 100.00%\r"
     ]
    }
   ],
   "source": [
    "# this codeblock takes about 50s to run on my (slow) machine\n",
    "\n",
    "chi_sq_tests = np.zeros((len(cat_vars.columns),len(cat_vars.columns)))\n",
    "\n",
    "for i, rows in enumerate(cat_vars.columns):\n",
    "    for j, cols in enumerate(cat_vars.columns):\n",
    "        \n",
    "        ctab_result = crosstab(cat_vars[rows], cat_vars[cols],\n",
    "                               levels=(\n",
    "                                   cat_vars[rows].unique(),\n",
    "                                   cat_vars[cols].unique()))\n",
    "\n",
    "        test_results = stats.chi2_contingency(ctab_result[1])\n",
    "        chi_sq_tests[i][j] = test_results[1]  # load p-values into the grid\n",
    "        amount_completed = 100*((len(cat_vars.columns)*i + j + 1)/len(cat_vars.columns)**2)\n",
    "        print(\" row:\", i, \n",
    "              \"col:\", j, \n",
    "              \"Progress: {:.2f}%\".format(amount_completed),\n",
    "              end=\"\\r\")  # progress"
   ]
  },
  {
   "cell_type": "code",
   "execution_count": 16,
   "id": "b9116941",
   "metadata": {},
   "outputs": [],
   "source": [
    "# redefine as a DataFrame, to have labels\n",
    "chi_sq_tests = pd.DataFrame(chi_sq_tests, \n",
    "                            columns=cat_vars.columns, \n",
    "                            index=cat_vars.columns)\n",
    "round(chi_sq_tests,2).to_csv('chi_sq_tests.csv')    # to save for later"
   ]
  },
  {
   "cell_type": "code",
   "execution_count": 46,
   "id": "ecaa68e4",
   "metadata": {},
   "outputs": [
    {
     "name": "stdout",
     "output_type": "stream",
     "text": [
      "Hobbyist          0\n",
      "Trans             0\n",
      "NEWOtherComms     0\n",
      "NEWDevOps         0\n",
      "CompFreq          0\n",
      "SurveyLength      0\n",
      "SurveyEase        0\n",
      "NEWOffTopic       0\n",
      "NEWOnboardGood    0\n",
      "SOAccount         0\n",
      "PurchaseWhat      0\n",
      "JobSeek           0\n",
      "NEWLearn          0\n",
      "OpSys             0\n",
      "NEWPurpleLink     0\n",
      "JobSat            0\n",
      "NEWDevOpsImpt     0\n",
      "NEWEdImpt         0\n",
      "NEWOvertime       0\n",
      "MainBranch        0\n",
      "SOComm            0\n",
      "SOPartFreq        0\n",
      "SOVisitFreq       0\n",
      "WelcomeChange     0\n",
      "Gender            0\n",
      "Employment        0\n",
      "EdLevel           0\n",
      "OrgSize           0\n",
      "UndergradMajor    0\n",
      "Sexuality         0\n",
      "dtype: int64\n"
     ]
    }
   ],
   "source": [
    "indep_vars = chi_sq_tests.gt(0.05)           # show which cells in are greater than p=0.05, where null not rejected\n",
    "print(indep_vars[indep_vars==True].count())  # looks like it was none of them!"
   ]
  },
  {
   "cell_type": "markdown",
   "id": "1df8e9e4",
   "metadata": {},
   "source": [
    "This means no two variables are independent of each other. So we could use exactly 1 categorical variable, but not another one, since we'd run into multicolinearity issues with two or more.\n",
    "\n",
    "(discussion of quantitative variable selection)"
   ]
  },
  {
   "cell_type": "markdown",
   "id": "e8c4331b",
   "metadata": {},
   "source": [
    "Now we can take a look at our numerical variables, and see which ones are correlated with each other. If two variables are significantly correlated, we should not include both. The cutoff I chose is $r = 0.7$; correlations higher than that are deemed significant, with ones lower than that insignificant. So let's see what we get:"
   ]
  },
  {
   "cell_type": "code",
   "execution_count": 35,
   "id": "86598040",
   "metadata": {},
   "outputs": [
    {
     "name": "stdout",
     "output_type": "stream",
     "text": [
      "               Respondent    Age  Age1stCode  CompTotal  ConvertedComp  \\\n",
      "Respondent           True  False       False      False          False   \n",
      "Age                 False   True       False      False          False   \n",
      "Age1stCode          False  False        True      False          False   \n",
      "CompTotal           False  False       False      False          False   \n",
      "ConvertedComp       False  False       False      False           True   \n",
      "WorkWeekHrs         False  False       False      False          False   \n",
      "YearsCode           False   True       False      False          False   \n",
      "YearsCodePro        False   True       False      False          False   \n",
      "\n",
      "               WorkWeekHrs  YearsCode  YearsCodePro  \n",
      "Respondent           False      False         False  \n",
      "Age                  False       True          True  \n",
      "Age1stCode           False      False         False  \n",
      "CompTotal            False      False         False  \n",
      "ConvertedComp        False      False         False  \n",
      "WorkWeekHrs           True      False         False  \n",
      "YearsCode            False       True          True  \n",
      "YearsCodePro         False       True          True  \n"
     ]
    }
   ],
   "source": [
    "print(quant_vars.corr(numeric_only=True).gt(0.7))  # find where correlations are >0.6 in corr matrix"
   ]
  },
  {
   "cell_type": "markdown",
   "id": "fbbe7da4",
   "metadata": {},
   "source": [
    "(discussion of quatitative variable selection)"
   ]
  },
  {
   "cell_type": "code",
   "execution_count": 36,
   "id": "52c1fa50",
   "metadata": {},
   "outputs": [],
   "source": [
    "x_cols = []  # whatever we select\n",
    "X = df[x_cols]\n",
    "Y = df['Hobbyist']"
   ]
  }
 ],
 "metadata": {
  "kernelspec": {
   "display_name": "Python 3 (ipykernel)",
   "language": "python",
   "name": "python3"
  },
  "language_info": {
   "codemirror_mode": {
    "name": "ipython",
    "version": 3
   },
   "file_extension": ".py",
   "mimetype": "text/x-python",
   "name": "python",
   "nbconvert_exporter": "python",
   "pygments_lexer": "ipython3",
   "version": "3.8.9"
  }
 },
 "nbformat": 4,
 "nbformat_minor": 5
}
