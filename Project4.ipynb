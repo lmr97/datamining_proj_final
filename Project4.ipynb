{
 "cells": [
  {
   "cell_type": "markdown",
   "id": "a489a001",
   "metadata": {},
   "source": [
    "# Data Mining Final Group Project"
   ]
  },
  {
   "cell_type": "code",
   "execution_count": 48,
   "id": "6d40cd77",
   "metadata": {},
   "outputs": [],
   "source": [
    "import pandas as pd\n",
    "import numpy as np\n",
    "from scipy import stats\n",
    "from scipy.stats.contingency import crosstab\n",
    "import seaborn as sns\n",
    "import statsmodels.api as sm\n",
    "from statsmodels.tools.eval_measures import aic\n",
    "from sklearn.model_selection import train_test_split, GridSearchCV, KFold"
   ]
  },
  {
   "cell_type": "code",
   "execution_count": 12,
   "id": "0a142d25",
   "metadata": {},
   "outputs": [],
   "source": [
    "df = pd.read_csv(\"survey_results_public.csv\")"
   ]
  },
  {
   "cell_type": "markdown",
   "id": "71bbc072",
   "metadata": {},
   "source": [
    "The following code drops rows with null values, cleans the data a bit to make mostly-numeric columns all numeric, and separates numerical from categorical variables for analysis and feature selection."
   ]
  },
  {
   "cell_type": "code",
   "execution_count": 13,
   "id": "683d1fdd",
   "metadata": {},
   "outputs": [
    {
     "name": "stdout",
     "output_type": "stream",
     "text": [
      "Rows with nulls: 45\n",
      "Total Columns: 61\n"
     ]
    }
   ],
   "source": [
    "print(\"Rows with nulls:\", df['Hobbyist'].isna().sum())            # relatively few nulls (45)\n",
    "df = df.dropna(how='any', subset='Hobbyist')  # drop all rows in the response var col without values\n",
    "\n",
    "print(\"Total Columns:\", df.columns.size)\n",
    "\n",
    "# categorical columns\n",
    "cat_vars = df.drop(['Respondent', \n",
    "                    'Age', \n",
    "                    'Age1stCode',\n",
    "                    'CompTotal', \n",
    "                    'ConvertedComp',\n",
    "                    'WorkWeekHrs',\n",
    "                    'YearsCode',\n",
    "                    'YearsCodePro'], \n",
    "                    axis=1)\n",
    "\n",
    "# conversion to make these a quanititative var\n",
    "df['YearsCode'].replace('Less than 1 year', 0.5, inplace=True) \n",
    "df['YearsCode'].replace('More than 50 years', 55, inplace=True)  # it's unlikely they coded for more than 60 years\n",
    "df['YearsCodePro'].replace('Less than 1 year', 0.5, inplace=True) \n",
    "df['YearsCodePro'].replace('More than 50 years', 55, inplace=True) # it's unlikely they coded pro for more than 60 years\n",
    "\n",
    "# true values unlikely to be far from these replacements\n",
    "df['Age1stCode'].replace('Younger than 5 years', 3, inplace=True)  \n",
    "df['Age1stCode'].replace('Older than 85', 87, inplace=True)  \n",
    "\n",
    "# quantitative columns\n",
    "quant_vars = df.filter(['Age',\n",
    "                        'Age1stCode',\n",
    "                        'CompTotal',\n",
    "                        'ConvertedComp',\n",
    "                        'WorkWeekHrs',\n",
    "                        'YearsCode',\n",
    "                        'YearsCodePro'],\n",
    "                        axis=1)\n",
    "\n",
    "# for some reason, the data is all of type 'object', not strings or floats, so these convert it\n",
    "cat_vars = pd.DataFrame(cat_vars, dtype=str)  \n",
    "quant_vars = pd.DataFrame(quant_vars, dtype=float)"
   ]
  },
  {
   "cell_type": "markdown",
   "id": "f175fec7",
   "metadata": {},
   "source": [
    "## Variable selection"
   ]
  },
  {
   "cell_type": "markdown",
   "id": "aea178d8",
   "metadata": {},
   "source": [
    "61 columns is a lot of features! We obviously don't want this many. So, to slim down the features further, we can exclude categorical features with very high numbers of levels, since these won't really work well in a machine learning model. So let's see the number of unique values for each categorical feature:"
   ]
  },
  {
   "cell_type": "markdown",
   "id": "6f59379c",
   "metadata": {},
   "source": [
    "### Categorical variable selection"
   ]
  },
  {
   "cell_type": "code",
   "execution_count": 14,
   "id": "99831b79",
   "metadata": {},
   "outputs": [
    {
     "name": "stdout",
     "output_type": "stream",
     "text": [
      "Hobbyist                            2\n",
      "Trans                               3\n",
      "NEWOtherComms                       3\n",
      "NEWDevOps                           4\n",
      "CompFreq                            4\n",
      "SurveyLength                        4\n",
      "SurveyEase                          4\n",
      "NEWOffTopic                         4\n",
      "NEWOnboardGood                      4\n",
      "SOAccount                           4\n",
      "PurchaseWhat                        4\n",
      "JobSeek                             4\n",
      "NEWLearn                            5\n",
      "OpSys                               5\n",
      "NEWPurpleLink                       5\n",
      "JobSat                              6\n",
      "NEWDevOpsImpt                       6\n",
      "NEWEdImpt                           6\n",
      "NEWOvertime                         6\n",
      "MainBranch                          6\n",
      "SOComm                              7\n",
      "SOPartFreq                          7\n",
      "SOVisitFreq                         7\n",
      "WelcomeChange                       7\n",
      "Gender                              8\n",
      "Employment                          8\n",
      "EdLevel                            10\n",
      "OrgSize                            10\n",
      "UndergradMajor                     13\n",
      "Sexuality                          15\n",
      "NEWSOSites                         62\n",
      "NEWJobHuntResearch                 64\n",
      "NEWPurchaseResearch                64\n",
      "CurrencySymbol                    142\n",
      "CurrencyDesc                      143\n",
      "Country                           184\n",
      "Ethnicity                         209\n",
      "JobFactors                        231\n",
      "NEWStuck                          445\n",
      "NEWCollabToolsWorkedWith         1154\n",
      "NEWCollabToolsDesireNextYear     1278\n",
      "NEWJobHunt                       2173\n",
      "MiscTechWorkedWith               2731\n",
      "DatabaseWorkedWith               2809\n",
      "DatabaseDesireNextYear           3194\n",
      "WebframeWorkedWith               3790\n",
      "WebframeDesireNextYear           3987\n",
      "MiscTechDesireNextYear           5217\n",
      "PlatformWorkedWith               6288\n",
      "PlatformDesireNextYear           7472\n",
      "DevType                          8270\n",
      "LanguageWorkedWith              14257\n",
      "LanguageDesireNextYear          16244\n",
      "dtype: int64\n"
     ]
    }
   ],
   "source": [
    "# count number of levels on each categorical column, drop ones with high number of levels\n",
    "# sorted for convenience\n",
    "col_unique_counts = cat_vars.nunique(dropna=True).sort_values(axis=0, ascending=True)\n",
    "print(col_unique_counts)"
   ]
  },
  {
   "cell_type": "markdown",
   "id": "4f37765f",
   "metadata": {},
   "source": [
    "Some of these variables have hundreds or even thousands of levels! Looks like we can drop about everything after `Sexuality` (and even keeping up to that may be a bit much)."
   ]
  },
  {
   "cell_type": "code",
   "execution_count": 15,
   "id": "913f08ab",
   "metadata": {},
   "outputs": [
    {
     "data": {
      "text/plain": [
       "Index(['Hobbyist', 'Trans', 'NEWOtherComms', 'NEWDevOps', 'CompFreq',\n",
       "       'SurveyLength', 'SurveyEase', 'NEWOffTopic', 'NEWOnboardGood',\n",
       "       'SOAccount', 'PurchaseWhat', 'JobSeek', 'NEWLearn', 'OpSys',\n",
       "       'NEWPurpleLink', 'JobSat', 'NEWDevOpsImpt', 'NEWEdImpt', 'NEWOvertime',\n",
       "       'MainBranch', 'SOComm', 'SOPartFreq', 'SOVisitFreq', 'WelcomeChange',\n",
       "       'Gender', 'Employment', 'EdLevel', 'OrgSize', 'UndergradMajor',\n",
       "       'Sexuality'],\n",
       "      dtype='object')"
      ]
     },
     "execution_count": 15,
     "metadata": {},
     "output_type": "execute_result"
    }
   ],
   "source": [
    "# categorical variables with smaller number of levels up to the Sexuality column\n",
    "small_cats = col_unique_counts.loc[:'Sexuality'] \n",
    "\n",
    "# reduce columns\n",
    "cat_vars = cat_vars[small_cats.index]\n",
    "cat_vars.columns"
   ]
  },
  {
   "cell_type": "markdown",
   "id": "0077246b",
   "metadata": {},
   "source": [
    "Now we can compare each categorical variable against each other to see if which categorical variables are independent of which (if any). We'll be using $\\chi ^2$ tests of independence here, the equivalent of multicolinearity tests for categorical variables. can only select variables that are indeendent of each other, or else we get multicollinearity in the model. Depending on the model, multicolinearity can result in anything from redundancy between features to misleading model results and violation of assumptions. So either way, we can use this test to eliminate features."
   ]
  },
  {
   "cell_type": "code",
   "execution_count": 7,
   "id": "ca39441e",
   "metadata": {},
   "outputs": [
    {
     "name": "stdout",
     "output_type": "stream",
     "text": [
      " row: 29 col: 29 Progress: 100.00%\r"
     ]
    }
   ],
   "source": [
    "# this codeblock takes about 45s to run on my (slow) machine\n",
    "# it simply conducts the tests and saves the results\n",
    "\n",
    "chi_sq_tests = np.zeros((len(cat_vars.columns),len(cat_vars.columns)))\n",
    "\n",
    "for i, rows in enumerate(cat_vars.columns):\n",
    "    for j, cols in enumerate(cat_vars.columns):\n",
    "        \n",
    "        ctab_result = crosstab(cat_vars[rows], cat_vars[cols],\n",
    "                               levels=(\n",
    "                                   cat_vars[rows].unique(),\n",
    "                                   cat_vars[cols].unique()))\n",
    "\n",
    "        test_results = stats.chi2_contingency(ctab_result[1])\n",
    "        chi_sq_tests[i][j] = test_results[1]  # load p-values into the grid\n",
    "        amount_completed = 100*((len(cat_vars.columns)*i + j + 1)/len(cat_vars.columns)**2)\n",
    "        print(\" row:\", i, \n",
    "              \"col:\", j, \n",
    "              \"Progress: {:.2f}%\".format(amount_completed),\n",
    "              end=\"\\r\")  # progress"
   ]
  },
  {
   "cell_type": "markdown",
   "id": "730f821e",
   "metadata": {},
   "source": [
    "Now we can see our results. The following code scans for test results with a "
   ]
  },
  {
   "cell_type": "code",
   "execution_count": 12,
   "id": "b9116941",
   "metadata": {},
   "outputs": [
    {
     "name": "stdout",
     "output_type": "stream",
     "text": [
      "Hobbyist          0\n",
      "Trans             0\n",
      "NEWOtherComms     0\n",
      "NEWDevOps         0\n",
      "CompFreq          0\n",
      "SurveyLength      0\n",
      "SurveyEase        0\n",
      "NEWOffTopic       0\n",
      "NEWOnboardGood    0\n",
      "SOAccount         0\n",
      "PurchaseWhat      0\n",
      "JobSeek           0\n",
      "NEWLearn          0\n",
      "OpSys             0\n",
      "NEWPurpleLink     0\n",
      "JobSat            0\n",
      "NEWDevOpsImpt     0\n",
      "NEWEdImpt         0\n",
      "NEWOvertime       0\n",
      "MainBranch        0\n",
      "SOComm            0\n",
      "SOPartFreq        0\n",
      "SOVisitFreq       0\n",
      "WelcomeChange     0\n",
      "Gender            0\n",
      "Employment        0\n",
      "EdLevel           0\n",
      "OrgSize           0\n",
      "UndergradMajor    0\n",
      "Sexuality         0\n",
      "dtype: int64\n"
     ]
    }
   ],
   "source": [
    "# redefine as a DataFrame, to have labels\n",
    "chi_sq_tests = pd.DataFrame(chi_sq_tests, \n",
    "                            columns=cat_vars.columns, \n",
    "                            index=cat_vars.columns)\n",
    "round(chi_sq_tests,2).to_csv('chi_sq_tests.csv')    # to save for later\n",
    "\n",
    "indep_vars = chi_sq_tests.gt(0.05)           # show which cells in are greater than p=0.05, null not rejected\n",
    "print(chi_sq_tests[indep_vars].count())      # count all rows in each col where indep_vars == True"
   ]
  },
  {
   "cell_type": "markdown",
   "id": "1df8e9e4",
   "metadata": {},
   "source": [
    "No row had any $\\chi^2$ test result greater than $p = 0.05$. This means no two variables are independent of each other. So we could use exactly 1 categorical variable, but not another one, since we'd run into multicolinearity issues with two or more.\n",
    "\n",
    "So which one to select?  We should probably select one that doesn't have a lot of levels; I'd say no more than 7. Let's filter out the categoricals with more than 7 levels: "
   ]
  },
  {
   "cell_type": "code",
   "execution_count": 16,
   "id": "9fb948bc",
   "metadata": {},
   "outputs": [
    {
     "name": "stdout",
     "output_type": "stream",
     "text": [
      "Index(['Trans', 'NEWOtherComms', 'NEWDevOps', 'CompFreq', 'SurveyLength',\n",
      "       'SurveyEase', 'NEWOffTopic', 'NEWOnboardGood', 'SOAccount',\n",
      "       'PurchaseWhat', 'JobSeek', 'NEWLearn', 'OpSys', 'NEWPurpleLink',\n",
      "       'JobSat', 'NEWDevOpsImpt', 'NEWEdImpt', 'NEWOvertime', 'MainBranch',\n",
      "       'SOComm', 'SOPartFreq', 'SOVisitFreq', 'WelcomeChange'],\n",
      "      dtype='object')\n"
     ]
    }
   ],
   "source": [
    "smallest_cats = cat_vars.loc[:,col_unique_counts <= 7].columns  # smallest categorical variables (index, NOT df)\n",
    "smallest_cats = smallest_cats.drop(['Hobbyist'])                # we should take out our target too\n",
    "print(smallest_cats)"
   ]
  },
  {
   "cell_type": "markdown",
   "id": "61092702",
   "metadata": {},
   "source": [
    "Several of these question topics have to do with the subject's company, their job description, pay frequency, or the survey itself, and as such do not help clarify the individual's personality. I've taken these and listed them in the `irrelevant` list below, and removed them from our list of categorical variables."
   ]
  },
  {
   "cell_type": "code",
   "execution_count": 17,
   "id": "113084ec",
   "metadata": {},
   "outputs": [
    {
     "name": "stdout",
     "output_type": "stream",
     "text": [
      "Index(['Trans', 'NEWOtherComms', 'NEWOffTopic', 'SOAccount', 'JobSeek',\n",
      "       'NEWLearn', 'OpSys', 'NEWPurpleLink', 'JobSat', 'NEWEdImpt',\n",
      "       'NEWOvertime', 'MainBranch', 'SOComm', 'SOPartFreq', 'SOVisitFreq',\n",
      "       'WelcomeChange'],\n",
      "      dtype='object')\n"
     ]
    }
   ],
   "source": [
    "irrelevant = ['NEWDevOps', 'CompFreq', 'SurveyLength', 'SurveyEase', \n",
    "              'NEWOnboardGood','PurchaseWhat', 'NEWDevOpsImpt']\n",
    "smallest_cats = smallest_cats.drop(irrelevant)\n",
    "print(smallest_cats)"
   ]
  },
  {
   "cell_type": "markdown",
   "id": "22ff9ad0",
   "metadata": {},
   "source": [
    "If this is to be a tool for employers, we probably shouldn't select a variable that uses a legally protected characteristic like `Trans`. Let's drop that one too. "
   ]
  },
  {
   "cell_type": "code",
   "execution_count": 18,
   "id": "5f20005f",
   "metadata": {},
   "outputs": [
    {
     "name": "stdout",
     "output_type": "stream",
     "text": [
      "Index(['NEWOtherComms', 'NEWOffTopic', 'SOAccount', 'JobSeek', 'NEWLearn',\n",
      "       'OpSys', 'NEWPurpleLink', 'JobSat', 'NEWEdImpt', 'NEWOvertime',\n",
      "       'MainBranch', 'SOComm', 'SOPartFreq', 'SOVisitFreq', 'WelcomeChange'],\n",
      "      dtype='object')\n"
     ]
    }
   ],
   "source": [
    "smallest_cats = smallest_cats.drop(['Trans'])\n",
    "print(smallest_cats)"
   ]
  },
  {
   "cell_type": "markdown",
   "id": "470065a9",
   "metadata": {},
   "source": [
    "I don't see any here that I know I can discount as irrelevant to whether someone taking the survey is a programming hobbyist or not, so we'll leave all these for now and use a gridsearch on a set of logistic regressions, each with all the numerical variables we've chosen and one of the above categorical variables. That will tell us which one was the best choice."
   ]
  },
  {
   "cell_type": "markdown",
   "id": "a4b77cd4",
   "metadata": {},
   "source": [
    "### Numerical variable selection"
   ]
  },
  {
   "cell_type": "markdown",
   "id": "e8c4331b",
   "metadata": {},
   "source": [
    "Now we can take a look at our numerical variables, and see which ones are correlated with each other. If two variables are significantly correlated, we should not include both. The cutoff I chose is $r = 0.6$; correlations higher than that are deemed significant, with ones lower than that insignificant. So let's see what we get:"
   ]
  },
  {
   "cell_type": "code",
   "execution_count": 59,
   "id": "86598040",
   "metadata": {},
   "outputs": [
    {
     "data": {
      "text/plain": [
       "<Axes: >"
      ]
     },
     "execution_count": 59,
     "metadata": {},
     "output_type": "execute_result"
    },
    {
     "data": {
      "image/png": "[encoded data removed]",
      "text/plain": [
       "<Figure size 640x480 with 2 Axes>"
      ]
     },
     "metadata": {},
     "output_type": "display_data"
    }
   ],
   "source": [
    "corr_matrix = quant_vars.corr(numeric_only=True)\n",
    "sns.heatmap(corr_matrix, cmap='viridis')"
   ]
  },
  {
   "cell_type": "markdown",
   "id": "fbbe7da4",
   "metadata": {},
   "source": [
    "It looks like `Age` is correlated with `YearsCode` as well as `YearsCodePro` (this seems intuitive). `YearsCode` and `YearsCodePro` are correlated with each other too, so we should only choose one of the three. The rest aren't really correlated. Since `YearsCode` (years the person has been coding) seems most relevant to whether the person is a hobbyist or not, let's keep that one, and drop the other two: "
   ]
  },
  {
   "cell_type": "code",
   "execution_count": 19,
   "id": "de33938a",
   "metadata": {},
   "outputs": [],
   "source": [
    "quant_vars = quant_vars.drop(['Age','YearsCodePro'], axis=1)"
   ]
  },
  {
   "cell_type": "markdown",
   "id": "30e5718a",
   "metadata": {},
   "source": [
    "Further, `CompTotal` is the total compensation in the survey-taker's native currency, whereas `ConvertedComp` is the salary in USD (using the exchange rate at the time of the survey and 50 working weeks in a year). So `CompTotal` is redundant, if not useless on its own across several currencies. So we'll drop that one too."
   ]
  },
  {
   "cell_type": "code",
   "execution_count": 46,
   "id": "3d2ff33b",
   "metadata": {},
   "outputs": [],
   "source": [
    "quant_vars = quant_vars.drop(['CompTotal'], axis=1)"
   ]
  },
  {
   "cell_type": "markdown",
   "id": "0cd71587",
   "metadata": {},
   "source": [
    "Now we have our variables narrowed down to something reasonable! To recap, here are our numerical variables, and our candidate categorcal variables:"
   ]
  },
  {
   "cell_type": "code",
   "execution_count": 47,
   "id": "0ca32dfb",
   "metadata": {},
   "outputs": [
    {
     "name": "stdout",
     "output_type": "stream",
     "text": [
      "Numerical Variables:\n",
      " Index(['Age1stCode', 'ConvertedComp', 'WorkWeekHrs', 'YearsCode'], dtype='object')\n",
      "\n",
      "Categorical Variables:\n",
      " Index(['NEWOtherComms', 'NEWOffTopic', 'SOAccount', 'JobSeek', 'NEWLearn',\n",
      "       'OpSys', 'NEWPurpleLink', 'JobSat', 'NEWEdImpt', 'NEWOvertime',\n",
      "       'MainBranch', 'SOComm', 'SOPartFreq', 'SOVisitFreq', 'WelcomeChange'],\n",
      "      dtype='object')\n"
     ]
    }
   ],
   "source": [
    "print(\"Numerical Variables:\\n\", quant_vars.columns)\n",
    "print(\"\\nCategorical Variables:\\n\", smallest_cats)"
   ]
  },
  {
   "cell_type": "markdown",
   "id": "e6918cfa",
   "metadata": {},
   "source": [
    "## Model Building"
   ]
  },
  {
   "cell_type": "markdown",
   "id": "9b329c60",
   "metadata": {},
   "source": [
    "### Check for imbalance in target variable"
   ]
  },
  {
   "cell_type": "markdown",
   "id": "317b7706",
   "metadata": {},
   "source": [
    "We should probably check for imbalance in the target variable (`Hobbyist`) before we get too much further. Let's see how our data is on that front:"
   ]
  },
  {
   "cell_type": "code",
   "execution_count": 45,
   "id": "cd69ec8d",
   "metadata": {},
   "outputs": [
    {
     "name": "stdout",
     "output_type": "stream",
     "text": [
      "Yes    50388\n",
      "No     14028\n",
      "Name: Hobbyist, dtype: int64\n",
      "\n",
      "No's percent of target: 21.8%\n",
      "Yes/No ratio: 3.592\n"
     ]
    },
    {
     "data": {
      "image/png": "[encoded data removed]",
      "text/plain": [
       "<Figure size 640x480 with 1 Axes>"
      ]
     },
     "metadata": {},
     "output_type": "display_data"
    }
   ],
   "source": [
    "y_n_vals = df.Hobbyist.value_counts()\n",
    "sns.countplot(df, x='Hobbyist')\n",
    "\n",
    "print(y_n_vals)\n",
    "print(\"\\nNo's percent of target: {:.1f}%\".format(100*y_n_vals[1]/df.Hobbyist.count()))\n",
    "print(\"Yes/No ratio: {:.3f}\".format(y_n_vals[0]/y_n_vals[1]))"
   ]
  },
  {
   "cell_type": "markdown",
   "id": "f84b36bf",
   "metadata": {},
   "source": [
    "So there is some imbalance, but it is relatively mild for this dataset (21% minor class, or less than 4:1 major/minor). Further, for logistic regression, balance is less of an issue than having proper sample sizes for each class, which we do, even for the smaller 'no' class ($n_\\text{no}=14028$). So we probably have an accurate representation of the distribution of each. In light of that, we won't scale our data here."
   ]
  },
  {
   "cell_type": "markdown",
   "id": "03de2e17",
   "metadata": {},
   "source": [
    "### Search for best categorical variable"
   ]
  },
  {
   "cell_type": "markdown",
   "id": "11d8c020",
   "metadata": {},
   "source": [
    "On to model building proper. Since we don't know which categorical variable will be best for our model, and we have few enough useable quantitative variables to use all of them with each categorical one. That means we'll need check each one to find the best. We'll see if we can pare down the quanititative variables afterward."
   ]
  },
  {
   "cell_type": "code",
   "execution_count": 62,
   "id": "75d9835f",
   "metadata": {},
   "outputs": [
    {
     "name": "stdout",
     "output_type": "stream",
     "text": [
      "0        1\n",
      "1        0\n",
      "2        1\n",
      "3        1\n",
      "4        1\n",
      "        ..\n",
      "64456    1\n",
      "64457    1\n",
      "64458    1\n",
      "64459    1\n",
      "64460    1\n",
      "Name: Hobbyist, Length: 64416, dtype: int64\n"
     ]
    },
    {
     "ename": "ValueError",
     "evalue": "Pandas data cast to numpy dtype of object. Check input data with np.asarray(data). The types seen wereNone and Age1stCode        object\nConvertedComp    float64\nWorkWeekHrs      float64\nYearsCode         object\nNEWOtherComms     object\ndtype: object. The data was\n31999    0\n44025    1\n8677     1\n14543    0\n31804    1\n        ..\n62610    1\n38170    1\n860      1\n15795    0\n56459    1\nName: Hobbyist, Length: 51532, dtype: int64\nand\n       Age1stCode  ConvertedComp  WorkWeekHrs YearsCode NEWOtherComms\n31999         13            NaN         45.0        39            No\n44025         19        91883.0         45.0        18            No\n8677          20            NaN          NaN         4           Yes\n14543         15        50806.0         40.0         9            No\n31804         14        39996.0         32.0        25           Yes\n...          ...            ...          ...       ...           ...\n62610         11            NaN          NaN        13           NaN\n38170         10            NaN         35.0        23           NaN\n860           18       110000.0         40.0         9            No\n15795         13        60989.0         34.0         6            No\n56459         13            NaN         40.0        17           Yes\n\n[51532 rows x 5 columns]\nbefore. After,\n[0 1 1 ... 1 0 1]\n[['13' nan 45.0 '39' 'No']\n ['19' 91883.0 45.0 '18' 'No']\n ['20' nan nan '4' 'Yes']\n ...\n ['18' 110000.0 40.0 '9' 'No']\n ['13' 60989.0 34.0 '6' 'No']\n ['13' nan 40.0 '17' 'Yes']].",
     "output_type": "error",
     "traceback": [
      "\u001b[0;31m---------------------------------------------------------------------------\u001b[0m",
      "\u001b[0;31mValueError\u001b[0m                                Traceback (most recent call last)",
      "Cell \u001b[0;32mIn[62], line 10\u001b[0m\n\u001b[1;32m      8\u001b[0m logistic_models \u001b[38;5;241m=\u001b[39m []\n\u001b[1;32m      9\u001b[0m \u001b[38;5;28;01mfor\u001b[39;00m combo \u001b[38;5;129;01min\u001b[39;00m x_var_combos:\n\u001b[0;32m---> 10\u001b[0m     model \u001b[38;5;241m=\u001b[39m \u001b[43msm\u001b[49m\u001b[38;5;241;43m.\u001b[39;49m\u001b[43mLogit\u001b[49m\u001b[43m(\u001b[49m\u001b[43mendog\u001b[49m\u001b[38;5;241;43m=\u001b[39;49m\u001b[43mtrain_data\u001b[49m\u001b[43m[\u001b[49m\u001b[38;5;124;43m'\u001b[39;49m\u001b[38;5;124;43mHobbyist\u001b[39;49m\u001b[38;5;124;43m'\u001b[39;49m\u001b[43m]\u001b[49m\u001b[43m,\u001b[49m\u001b[43m \u001b[49m\u001b[43mexog\u001b[49m\u001b[38;5;241;43m=\u001b[39;49m\u001b[43mtrain_data\u001b[49m\u001b[43m[\u001b[49m\u001b[43mcombo\u001b[49m\u001b[43m]\u001b[49m\u001b[43m)\u001b[49m\n\u001b[1;32m     11\u001b[0m     model\u001b[38;5;241m.\u001b[39mfit()\n\u001b[1;32m     12\u001b[0m     logistic_models\u001b[38;5;241m.\u001b[39mappend(model)\n",
      "File \u001b[0;32m~/Library/Python/3.8/lib/python/site-packages/statsmodels/discrete/discrete_model.py:462\u001b[0m, in \u001b[0;36mBinaryModel.__init__\u001b[0;34m(self, endog, exog, check_rank, **kwargs)\u001b[0m\n\u001b[1;32m    459\u001b[0m \u001b[38;5;28;01mdef\u001b[39;00m \u001b[38;5;21m__init__\u001b[39m(\u001b[38;5;28mself\u001b[39m, endog, exog, check_rank\u001b[38;5;241m=\u001b[39m\u001b[38;5;28;01mTrue\u001b[39;00m, \u001b[38;5;241m*\u001b[39m\u001b[38;5;241m*\u001b[39mkwargs):\n\u001b[1;32m    460\u001b[0m     \u001b[38;5;66;03m# unconditional check, requires no extra kwargs added by subclasses\u001b[39;00m\n\u001b[1;32m    461\u001b[0m     \u001b[38;5;28mself\u001b[39m\u001b[38;5;241m.\u001b[39m_check_kwargs(kwargs)\n\u001b[0;32m--> 462\u001b[0m     \u001b[38;5;28;43msuper\u001b[39;49m\u001b[43m(\u001b[49m\u001b[43m)\u001b[49m\u001b[38;5;241;43m.\u001b[39;49m\u001b[38;5;21;43m__init__\u001b[39;49m\u001b[43m(\u001b[49m\u001b[43mendog\u001b[49m\u001b[43m,\u001b[49m\u001b[43m \u001b[49m\u001b[43mexog\u001b[49m\u001b[43m,\u001b[49m\u001b[43m \u001b[49m\u001b[43mcheck_rank\u001b[49m\u001b[43m,\u001b[49m\u001b[43m \u001b[49m\u001b[38;5;241;43m*\u001b[39;49m\u001b[38;5;241;43m*\u001b[39;49m\u001b[43mkwargs\u001b[49m\u001b[43m)\u001b[49m\n\u001b[1;32m    463\u001b[0m     \u001b[38;5;28;01mif\u001b[39;00m \u001b[38;5;129;01mnot\u001b[39;00m \u001b[38;5;28missubclass\u001b[39m(\u001b[38;5;28mself\u001b[39m\u001b[38;5;241m.\u001b[39m\u001b[38;5;18m__class__\u001b[39m, MultinomialModel):\n\u001b[1;32m    464\u001b[0m         \u001b[38;5;28;01mif\u001b[39;00m \u001b[38;5;129;01mnot\u001b[39;00m np\u001b[38;5;241m.\u001b[39mall((\u001b[38;5;28mself\u001b[39m\u001b[38;5;241m.\u001b[39mendog \u001b[38;5;241m>\u001b[39m\u001b[38;5;241m=\u001b[39m \u001b[38;5;241m0\u001b[39m) \u001b[38;5;241m&\u001b[39m (\u001b[38;5;28mself\u001b[39m\u001b[38;5;241m.\u001b[39mendog \u001b[38;5;241m<\u001b[39m\u001b[38;5;241m=\u001b[39m \u001b[38;5;241m1\u001b[39m)):\n",
      "File \u001b[0;32m~/Library/Python/3.8/lib/python/site-packages/statsmodels/discrete/discrete_model.py:178\u001b[0m, in \u001b[0;36mDiscreteModel.__init__\u001b[0;34m(self, endog, exog, check_rank, **kwargs)\u001b[0m\n\u001b[1;32m    176\u001b[0m \u001b[38;5;28;01mdef\u001b[39;00m \u001b[38;5;21m__init__\u001b[39m(\u001b[38;5;28mself\u001b[39m, endog, exog, check_rank\u001b[38;5;241m=\u001b[39m\u001b[38;5;28;01mTrue\u001b[39;00m, \u001b[38;5;241m*\u001b[39m\u001b[38;5;241m*\u001b[39mkwargs):\n\u001b[1;32m    177\u001b[0m     \u001b[38;5;28mself\u001b[39m\u001b[38;5;241m.\u001b[39m_check_rank \u001b[38;5;241m=\u001b[39m check_rank\n\u001b[0;32m--> 178\u001b[0m     \u001b[38;5;28;43msuper\u001b[39;49m\u001b[43m(\u001b[49m\u001b[43m)\u001b[49m\u001b[38;5;241;43m.\u001b[39;49m\u001b[38;5;21;43m__init__\u001b[39;49m\u001b[43m(\u001b[49m\u001b[43mendog\u001b[49m\u001b[43m,\u001b[49m\u001b[43m \u001b[49m\u001b[43mexog\u001b[49m\u001b[43m,\u001b[49m\u001b[43m \u001b[49m\u001b[38;5;241;43m*\u001b[39;49m\u001b[38;5;241;43m*\u001b[39;49m\u001b[43mkwargs\u001b[49m\u001b[43m)\u001b[49m\n\u001b[1;32m    179\u001b[0m     \u001b[38;5;28mself\u001b[39m\u001b[38;5;241m.\u001b[39mraise_on_perfect_prediction \u001b[38;5;241m=\u001b[39m \u001b[38;5;28;01mTrue\u001b[39;00m\n",
      "File \u001b[0;32m~/Library/Python/3.8/lib/python/site-packages/statsmodels/base/model.py:267\u001b[0m, in \u001b[0;36mLikelihoodModel.__init__\u001b[0;34m(self, endog, exog, **kwargs)\u001b[0m\n\u001b[1;32m    266\u001b[0m \u001b[38;5;28;01mdef\u001b[39;00m \u001b[38;5;21m__init__\u001b[39m(\u001b[38;5;28mself\u001b[39m, endog, exog\u001b[38;5;241m=\u001b[39m\u001b[38;5;28;01mNone\u001b[39;00m, \u001b[38;5;241m*\u001b[39m\u001b[38;5;241m*\u001b[39mkwargs):\n\u001b[0;32m--> 267\u001b[0m     \u001b[38;5;28;43msuper\u001b[39;49m\u001b[43m(\u001b[49m\u001b[43m)\u001b[49m\u001b[38;5;241;43m.\u001b[39;49m\u001b[38;5;21;43m__init__\u001b[39;49m\u001b[43m(\u001b[49m\u001b[43mendog\u001b[49m\u001b[43m,\u001b[49m\u001b[43m \u001b[49m\u001b[43mexog\u001b[49m\u001b[43m,\u001b[49m\u001b[43m \u001b[49m\u001b[38;5;241;43m*\u001b[39;49m\u001b[38;5;241;43m*\u001b[39;49m\u001b[43mkwargs\u001b[49m\u001b[43m)\u001b[49m\n\u001b[1;32m    268\u001b[0m     \u001b[38;5;28mself\u001b[39m\u001b[38;5;241m.\u001b[39minitialize()\n",
      "File \u001b[0;32m~/Library/Python/3.8/lib/python/site-packages/statsmodels/base/model.py:92\u001b[0m, in \u001b[0;36mModel.__init__\u001b[0;34m(self, endog, exog, **kwargs)\u001b[0m\n\u001b[1;32m     90\u001b[0m missing \u001b[38;5;241m=\u001b[39m kwargs\u001b[38;5;241m.\u001b[39mpop(\u001b[38;5;124m'\u001b[39m\u001b[38;5;124mmissing\u001b[39m\u001b[38;5;124m'\u001b[39m, \u001b[38;5;124m'\u001b[39m\u001b[38;5;124mnone\u001b[39m\u001b[38;5;124m'\u001b[39m)\n\u001b[1;32m     91\u001b[0m hasconst \u001b[38;5;241m=\u001b[39m kwargs\u001b[38;5;241m.\u001b[39mpop(\u001b[38;5;124m'\u001b[39m\u001b[38;5;124mhasconst\u001b[39m\u001b[38;5;124m'\u001b[39m, \u001b[38;5;28;01mNone\u001b[39;00m)\n\u001b[0;32m---> 92\u001b[0m \u001b[38;5;28mself\u001b[39m\u001b[38;5;241m.\u001b[39mdata \u001b[38;5;241m=\u001b[39m \u001b[38;5;28;43mself\u001b[39;49m\u001b[38;5;241;43m.\u001b[39;49m\u001b[43m_handle_data\u001b[49m\u001b[43m(\u001b[49m\u001b[43mendog\u001b[49m\u001b[43m,\u001b[49m\u001b[43m \u001b[49m\u001b[43mexog\u001b[49m\u001b[43m,\u001b[49m\u001b[43m \u001b[49m\u001b[43mmissing\u001b[49m\u001b[43m,\u001b[49m\u001b[43m \u001b[49m\u001b[43mhasconst\u001b[49m\u001b[43m,\u001b[49m\n\u001b[1;32m     93\u001b[0m \u001b[43m                              \u001b[49m\u001b[38;5;241;43m*\u001b[39;49m\u001b[38;5;241;43m*\u001b[39;49m\u001b[43mkwargs\u001b[49m\u001b[43m)\u001b[49m\n\u001b[1;32m     94\u001b[0m \u001b[38;5;28mself\u001b[39m\u001b[38;5;241m.\u001b[39mk_constant \u001b[38;5;241m=\u001b[39m \u001b[38;5;28mself\u001b[39m\u001b[38;5;241m.\u001b[39mdata\u001b[38;5;241m.\u001b[39mk_constant\n\u001b[1;32m     95\u001b[0m \u001b[38;5;28mself\u001b[39m\u001b[38;5;241m.\u001b[39mexog \u001b[38;5;241m=\u001b[39m \u001b[38;5;28mself\u001b[39m\u001b[38;5;241m.\u001b[39mdata\u001b[38;5;241m.\u001b[39mexog\n",
      "File \u001b[0;32m~/Library/Python/3.8/lib/python/site-packages/statsmodels/base/model.py:132\u001b[0m, in \u001b[0;36mModel._handle_data\u001b[0;34m(self, endog, exog, missing, hasconst, **kwargs)\u001b[0m\n\u001b[1;32m    131\u001b[0m \u001b[38;5;28;01mdef\u001b[39;00m \u001b[38;5;21m_handle_data\u001b[39m(\u001b[38;5;28mself\u001b[39m, endog, exog, missing, hasconst, \u001b[38;5;241m*\u001b[39m\u001b[38;5;241m*\u001b[39mkwargs):\n\u001b[0;32m--> 132\u001b[0m     data \u001b[38;5;241m=\u001b[39m \u001b[43mhandle_data\u001b[49m\u001b[43m(\u001b[49m\u001b[43mendog\u001b[49m\u001b[43m,\u001b[49m\u001b[43m \u001b[49m\u001b[43mexog\u001b[49m\u001b[43m,\u001b[49m\u001b[43m \u001b[49m\u001b[43mmissing\u001b[49m\u001b[43m,\u001b[49m\u001b[43m \u001b[49m\u001b[43mhasconst\u001b[49m\u001b[43m,\u001b[49m\u001b[43m \u001b[49m\u001b[38;5;241;43m*\u001b[39;49m\u001b[38;5;241;43m*\u001b[39;49m\u001b[43mkwargs\u001b[49m\u001b[43m)\u001b[49m\n\u001b[1;32m    133\u001b[0m     \u001b[38;5;66;03m# kwargs arrays could have changed, easier to just attach here\u001b[39;00m\n\u001b[1;32m    134\u001b[0m     \u001b[38;5;28;01mfor\u001b[39;00m key \u001b[38;5;129;01min\u001b[39;00m kwargs:\n",
      "File \u001b[0;32m~/Library/Python/3.8/lib/python/site-packages/statsmodels/base/data.py:700\u001b[0m, in \u001b[0;36mhandle_data\u001b[0;34m(endog, exog, missing, hasconst, **kwargs)\u001b[0m\n\u001b[1;32m    697\u001b[0m     exog \u001b[38;5;241m=\u001b[39m np\u001b[38;5;241m.\u001b[39masarray(exog)\n\u001b[1;32m    699\u001b[0m klass \u001b[38;5;241m=\u001b[39m handle_data_class_factory(endog, exog)\n\u001b[0;32m--> 700\u001b[0m \u001b[38;5;28;01mreturn\u001b[39;00m \u001b[43mklass\u001b[49m\u001b[43m(\u001b[49m\u001b[43mendog\u001b[49m\u001b[43m,\u001b[49m\u001b[43m \u001b[49m\u001b[43mexog\u001b[49m\u001b[38;5;241;43m=\u001b[39;49m\u001b[43mexog\u001b[49m\u001b[43m,\u001b[49m\u001b[43m \u001b[49m\u001b[43mmissing\u001b[49m\u001b[38;5;241;43m=\u001b[39;49m\u001b[43mmissing\u001b[49m\u001b[43m,\u001b[49m\u001b[43m \u001b[49m\u001b[43mhasconst\u001b[49m\u001b[38;5;241;43m=\u001b[39;49m\u001b[43mhasconst\u001b[49m\u001b[43m,\u001b[49m\n\u001b[1;32m    701\u001b[0m \u001b[43m             \u001b[49m\u001b[38;5;241;43m*\u001b[39;49m\u001b[38;5;241;43m*\u001b[39;49m\u001b[43mkwargs\u001b[49m\u001b[43m)\u001b[49m\n",
      "File \u001b[0;32m~/Library/Python/3.8/lib/python/site-packages/statsmodels/base/data.py:84\u001b[0m, in \u001b[0;36mModelData.__init__\u001b[0;34m(self, endog, exog, missing, hasconst, **kwargs)\u001b[0m\n\u001b[1;32m     82\u001b[0m     \u001b[38;5;28mself\u001b[39m\u001b[38;5;241m.\u001b[39morig_endog \u001b[38;5;241m=\u001b[39m endog\n\u001b[1;32m     83\u001b[0m     \u001b[38;5;28mself\u001b[39m\u001b[38;5;241m.\u001b[39morig_exog \u001b[38;5;241m=\u001b[39m exog\n\u001b[0;32m---> 84\u001b[0m     \u001b[38;5;28mself\u001b[39m\u001b[38;5;241m.\u001b[39mendog, \u001b[38;5;28mself\u001b[39m\u001b[38;5;241m.\u001b[39mexog \u001b[38;5;241m=\u001b[39m \u001b[38;5;28;43mself\u001b[39;49m\u001b[38;5;241;43m.\u001b[39;49m\u001b[43m_convert_endog_exog\u001b[49m\u001b[43m(\u001b[49m\u001b[43mendog\u001b[49m\u001b[43m,\u001b[49m\u001b[43m \u001b[49m\u001b[43mexog\u001b[49m\u001b[43m)\u001b[49m\n\u001b[1;32m     86\u001b[0m \u001b[38;5;28mself\u001b[39m\u001b[38;5;241m.\u001b[39mconst_idx \u001b[38;5;241m=\u001b[39m \u001b[38;5;28;01mNone\u001b[39;00m\n\u001b[1;32m     87\u001b[0m \u001b[38;5;28mself\u001b[39m\u001b[38;5;241m.\u001b[39mk_constant \u001b[38;5;241m=\u001b[39m \u001b[38;5;241m0\u001b[39m\n",
      "File \u001b[0;32m~/Library/Python/3.8/lib/python/site-packages/statsmodels/base/data.py:530\u001b[0m, in \u001b[0;36mPandasData._convert_endog_exog\u001b[0;34m(self, endog, exog)\u001b[0m\n\u001b[1;32m    528\u001b[0m     \u001b[38;5;28;01melse\u001b[39;00m:\n\u001b[1;32m    529\u001b[0m         exog_dtype \u001b[38;5;241m=\u001b[39m \u001b[38;5;28;01mNone\u001b[39;00m\n\u001b[0;32m--> 530\u001b[0m     \u001b[38;5;28;01mraise\u001b[39;00m \u001b[38;5;167;01mValueError\u001b[39;00m(\n\u001b[1;32m    531\u001b[0m         \u001b[38;5;124m\"\u001b[39m\u001b[38;5;124mPandas data cast to numpy dtype of object. Check input data \u001b[39m\u001b[38;5;124m\"\u001b[39m\n\u001b[1;32m    532\u001b[0m         \u001b[38;5;124m\"\u001b[39m\u001b[38;5;124mwith np.asarray(data). The types seen were\u001b[39m\u001b[38;5;124m\"\u001b[39m\n\u001b[1;32m    533\u001b[0m         \u001b[38;5;124mf\u001b[39m\u001b[38;5;124m\"\u001b[39m\u001b[38;5;132;01m{\u001b[39;00mendog_dtype\u001b[38;5;132;01m}\u001b[39;00m\u001b[38;5;124m and \u001b[39m\u001b[38;5;132;01m{\u001b[39;00mexog_dtype\u001b[38;5;132;01m}\u001b[39;00m\u001b[38;5;124m. The data was\u001b[39m\u001b[38;5;130;01m\\n\u001b[39;00m\u001b[38;5;124m\"\u001b[39m\n\u001b[1;32m    534\u001b[0m         \u001b[38;5;124mf\u001b[39m\u001b[38;5;124m\"\u001b[39m\u001b[38;5;132;01m{\u001b[39;00morig_endog\u001b[38;5;132;01m}\u001b[39;00m\u001b[38;5;130;01m\\n\u001b[39;00m\u001b[38;5;124mand\u001b[39m\u001b[38;5;130;01m\\n\u001b[39;00m\u001b[38;5;124m \u001b[39m\u001b[38;5;132;01m{\u001b[39;00morig_exog\u001b[38;5;132;01m}\u001b[39;00m\u001b[38;5;130;01m\\n\u001b[39;00m\u001b[38;5;124mbefore. After,\u001b[39m\u001b[38;5;130;01m\\n\u001b[39;00m\u001b[38;5;132;01m{\u001b[39;00mendog\u001b[38;5;132;01m}\u001b[39;00m\u001b[38;5;130;01m\\n\u001b[39;00m\u001b[38;5;132;01m{\u001b[39;00mexog\u001b[38;5;132;01m}\u001b[39;00m\u001b[38;5;124m.\u001b[39m\u001b[38;5;124m\"\u001b[39m\n\u001b[1;32m    535\u001b[0m     )\n\u001b[1;32m    536\u001b[0m \u001b[38;5;28;01mreturn\u001b[39;00m \u001b[38;5;28msuper\u001b[39m(PandasData, \u001b[38;5;28mself\u001b[39m)\u001b[38;5;241m.\u001b[39m_convert_endog_exog(endog, exog)\n",
      "\u001b[0;31mValueError\u001b[0m: Pandas data cast to numpy dtype of object. Check input data with np.asarray(data). The types seen wereNone and Age1stCode        object\nConvertedComp    float64\nWorkWeekHrs      float64\nYearsCode         object\nNEWOtherComms     object\ndtype: object. The data was\n31999    0\n44025    1\n8677     1\n14543    0\n31804    1\n        ..\n62610    1\n38170    1\n860      1\n15795    0\n56459    1\nName: Hobbyist, Length: 51532, dtype: int64\nand\n       Age1stCode  ConvertedComp  WorkWeekHrs YearsCode NEWOtherComms\n31999         13            NaN         45.0        39            No\n44025         19        91883.0         45.0        18            No\n8677          20            NaN          NaN         4           Yes\n14543         15        50806.0         40.0         9            No\n31804         14        39996.0         32.0        25           Yes\n...          ...            ...          ...       ...           ...\n62610         11            NaN          NaN        13           NaN\n38170         10            NaN         35.0        23           NaN\n860           18       110000.0         40.0         9            No\n15795         13        60989.0         34.0         6            No\n56459         13            NaN         40.0        17           Yes\n\n[51532 rows x 5 columns]\nbefore. After,\n[0 1 1 ... 1 0 1]\n[['13' nan 45.0 '39' 'No']\n ['19' 91883.0 45.0 '18' 'No']\n ['20' nan nan '4' 'Yes']\n ...\n ['18' 110000.0 40.0 '9' 'No']\n ['13' 60989.0 34.0 '6' 'No']\n ['13' nan 40.0 '17' 'Yes']]."
     ]
    }
   ],
   "source": [
    "# this block is having datatype issues, will resolve later\n",
    "\n",
    "df.Hobbyist.replace({'Yes': 1, 'No': 0}, inplace=True)\n",
    "print(df.Hobbyist)\n",
    "train_data, test_data = train_test_split(df, test_size=0.2, random_state=42)\n",
    "\n",
    "x_var_combos = [['Age1stCode', 'ConvertedComp', 'WorkWeekHrs', 'YearsCode']\n",
    "                + [cat] for cat in smallest_cats]\n",
    "\n",
    "logistic_models = []\n",
    "for combo in x_var_combos:\n",
    "    model = sm.Logit(endog=train_data['Hobbyist'], exog=train_data[combo])\n",
    "    model.fit()\n",
    "    logistic_models.append(model)"
   ]
  },
  {
   "cell_type": "code",
   "execution_count": 11,
   "id": "52c1fa50",
   "metadata": {},
   "outputs": [],
   "source": []
  },
  {
   "cell_type": "code",
   "execution_count": null,
   "id": "ed409b8c",
   "metadata": {},
   "outputs": [],
   "source": [
    "# this code assesses the model\n",
    "residual_deviance = result.deviance\n",
    "degrees_of_freedom_residual = result.df_resid\n",
    "\n",
    "# Calculate the p-value using the survival function (sf) for the chi-square distribution\n",
    "p_value = chi2.sf(residual_deviance, degrees_of_freedom_residual)\n",
    "\n",
    "print(f\"Goodness-of-fit test p-value: {p_value}\")"
   ]
  }
 ],
 "metadata": {
  "kernelspec": {
   "display_name": "Python 3 (ipykernel)",
   "language": "python",
   "name": "python3"
  },
  "language_info": {
   "codemirror_mode": {
    "name": "ipython",
    "version": 3
   },
   "file_extension": ".py",
   "mimetype": "text/x-python",
   "name": "python",
   "nbconvert_exporter": "python",
   "pygments_lexer": "ipython3",
   "version": "3.8.9"
  }
 },
 "nbformat": 4,
 "nbformat_minor": 5
}
